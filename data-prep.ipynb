{
 "cells": [
  {
   "cell_type": "markdown",
   "id": "d0faade5-035c-41a6-a995-e48db339cd8c",
   "metadata": {},
   "source": [
    "# Military Drone Strikes, Afgan, Pakistan, Yemen and Somalia\n",
    "\n",
    "This script is used to prepare our data for future analysis. it reads in the DroneWarsData_tw.xlsx spreadsheet and outputs drone-strikes.xlsx spreadsheet.\n",
    "\n",
    "We can then use the data in drone-strikes.xlsx in our data analysis piece\n",
    "\n",
    "The DroneWarsData.xlsx can be downloaded from the dronewars.io website\n",
    "https://dronewars.github.io/data/DroneWarsData.xlsx"
   ]
  },
  {
   "cell_type": "code",
   "execution_count": 1,
   "id": "dd29fcb1",
   "metadata": {},
   "outputs": [],
   "source": [
    "import pandas as pd\n",
    "from pandas.api.types import CategoricalDtype\n",
    "import mitosheet\n",
    "import re"
   ]
  },
  {
   "cell_type": "code",
   "execution_count": 2,
   "id": "dd00e8c2",
   "metadata": {},
   "outputs": [],
   "source": [
    "# Read in the 'All' sheet\n",
    "df = pd.read_excel('DroneWarsData.xlsx', sheet_name = 'All')"
   ]
  },
  {
   "cell_type": "code",
   "execution_count": 3,
   "id": "b0198f26-5f3b-47ea-b3dc-37ea350b10e8",
   "metadata": {},
   "outputs": [
    {
     "data": {
      "text/html": [
       "<div><div id=5553ac4b-aa58-4d89-abe5-8a0d986d98ad style=\"display:none; background-color:#9D6CFF; color:white; width:200px; height:30px; padding-left:5px; border-radius:4px; flex-direction:row; justify-content:space-around; align-items:center;\" onmouseover=\"this.style.backgroundColor='#BA9BF8'\" onmouseout=\"this.style.backgroundColor='#9D6CFF'\" onclick=\"window.commands?.execute('create-mitosheet-from-dataframe-output');\">See Full Dataframe in Mito</div> <script> if (window.commands.hasCommand('create-mitosheet-from-dataframe-output')) document.getElementById('5553ac4b-aa58-4d89-abe5-8a0d986d98ad').style.display = 'flex' </script> <table border=\"1\" class=\"dataframe\">\n",
       "  <thead>\n",
       "    <tr style=\"text-align: right;\">\n",
       "      <th></th>\n",
       "      <th>Strike ID</th>\n",
       "      <th>Country</th>\n",
       "      <th>Date (MM-DD-YYYY)</th>\n",
       "      <th>President</th>\n",
       "      <th>Most Specific Location</th>\n",
       "      <th>Most Specific Lat/Long</th>\n",
       "      <th>Latitude</th>\n",
       "      <th>Longitude</th>\n",
       "      <th>Minimum total people killed</th>\n",
       "      <th>Maximum total people killed</th>\n",
       "      <th>Minimum civilians reported killed</th>\n",
       "      <th>Maximum civilians reported killed</th>\n",
       "      <th>Minimum children reported killed</th>\n",
       "      <th>Maximum children reported killed</th>\n",
       "      <th>Minimum reported injured</th>\n",
       "      <th>Ratio of Civilians to Total Killed</th>\n",
       "      <th>Other (Non-civilian/children Killed)</th>\n",
       "    </tr>\n",
       "  </thead>\n",
       "  <tbody>\n",
       "    <tr>\n",
       "      <th>0</th>\n",
       "      <td>B50</td>\n",
       "      <td>Pakistan</td>\n",
       "      <td>01-01-2009</td>\n",
       "      <td>Bush</td>\n",
       "      <td>Kari Kot, South Waziristan, Pakistan</td>\n",
       "      <td>32.270651,69.554179</td>\n",
       "      <td>32.270651</td>\n",
       "      <td>69.554179</td>\n",
       "      <td>3</td>\n",
       "      <td>5</td>\n",
       "      <td>0</td>\n",
       "      <td>0</td>\n",
       "      <td>0</td>\n",
       "      <td>0</td>\n",
       "      <td>1</td>\n",
       "      <td>0.0</td>\n",
       "      <td>5</td>\n",
       "    </tr>\n",
       "    <tr>\n",
       "      <th>1</th>\n",
       "      <td>Ob53</td>\n",
       "      <td>Pakistan</td>\n",
       "      <td>01-01-2010</td>\n",
       "      <td>Obama</td>\n",
       "      <td>Ghundikala, North Waziristan, Pakistan</td>\n",
       "      <td>32.959854,70.156371</td>\n",
       "      <td>32.959854</td>\n",
       "      <td>70.156371</td>\n",
       "      <td>2</td>\n",
       "      <td>3</td>\n",
       "      <td>0</td>\n",
       "      <td>0</td>\n",
       "      <td>0</td>\n",
       "      <td>0</td>\n",
       "      <td>3</td>\n",
       "      <td>0.0</td>\n",
       "      <td>3</td>\n",
       "    </tr>\n",
       "    <tr>\n",
       "      <th>2</th>\n",
       "      <td>Ob181</td>\n",
       "      <td>Pakistan</td>\n",
       "      <td>01-01-2011</td>\n",
       "      <td>Obama</td>\n",
       "      <td>Mandi Khel, North Waziristan, Pakistan</td>\n",
       "      <td>33.001031,70.364339</td>\n",
       "      <td>33.001031</td>\n",
       "      <td>70.364339</td>\n",
       "      <td>8</td>\n",
       "      <td>10</td>\n",
       "      <td>0</td>\n",
       "      <td>0</td>\n",
       "      <td>0</td>\n",
       "      <td>0</td>\n",
       "      <td>0</td>\n",
       "      <td>0.0</td>\n",
       "      <td>10</td>\n",
       "    </tr>\n",
       "    <tr>\n",
       "      <th>3</th>\n",
       "      <td>Ob182</td>\n",
       "      <td>Pakistan</td>\n",
       "      <td>01-01-2011</td>\n",
       "      <td>Obama</td>\n",
       "      <td>Mandi Khel, North Waziristan, Pakistan</td>\n",
       "      <td>33.001031,70.364339</td>\n",
       "      <td>33.001031</td>\n",
       "      <td>70.364339</td>\n",
       "      <td>4</td>\n",
       "      <td>6</td>\n",
       "      <td>0</td>\n",
       "      <td>0</td>\n",
       "      <td>0</td>\n",
       "      <td>0</td>\n",
       "      <td>0</td>\n",
       "      <td>0.0</td>\n",
       "      <td>6</td>\n",
       "    </tr>\n",
       "    <tr>\n",
       "      <th>4</th>\n",
       "      <td>Ob183</td>\n",
       "      <td>Pakistan</td>\n",
       "      <td>01-01-2011</td>\n",
       "      <td>Obama</td>\n",
       "      <td>Datta Khel, North Waziristan, Pakistan</td>\n",
       "      <td>33.150049,70.433361</td>\n",
       "      <td>33.150049</td>\n",
       "      <td>70.433361</td>\n",
       "      <td>4</td>\n",
       "      <td>5</td>\n",
       "      <td>0</td>\n",
       "      <td>0</td>\n",
       "      <td>0</td>\n",
       "      <td>0</td>\n",
       "      <td>0</td>\n",
       "      <td>0.0</td>\n",
       "      <td>5</td>\n",
       "    </tr>\n",
       "  </tbody>\n",
       "</table></div>"
      ],
      "text/plain": [
       "  Strike ID   Country Date (MM-DD-YYYY) President  \\\n",
       "0       B50  Pakistan        01-01-2009      Bush   \n",
       "1      Ob53  Pakistan        01-01-2010     Obama   \n",
       "2     Ob181  Pakistan        01-01-2011     Obama   \n",
       "3     Ob182  Pakistan        01-01-2011     Obama   \n",
       "4     Ob183  Pakistan        01-01-2011     Obama   \n",
       "\n",
       "                   Most Specific Location Most Specific Lat/Long   Latitude  \\\n",
       "0    Kari Kot, South Waziristan, Pakistan    32.270651,69.554179  32.270651   \n",
       "1  Ghundikala, North Waziristan, Pakistan    32.959854,70.156371  32.959854   \n",
       "2  Mandi Khel, North Waziristan, Pakistan    33.001031,70.364339  33.001031   \n",
       "3  Mandi Khel, North Waziristan, Pakistan    33.001031,70.364339  33.001031   \n",
       "4  Datta Khel, North Waziristan, Pakistan    33.150049,70.433361  33.150049   \n",
       "\n",
       "   Longitude Minimum total people killed Maximum total people killed  \\\n",
       "0  69.554179                           3                           5   \n",
       "1  70.156371                           2                           3   \n",
       "2  70.364339                           8                          10   \n",
       "3  70.364339                           4                           6   \n",
       "4  70.433361                           4                           5   \n",
       "\n",
       "  Minimum civilians reported killed Maximum civilians reported killed  \\\n",
       "0                                 0                                 0   \n",
       "1                                 0                                 0   \n",
       "2                                 0                                 0   \n",
       "3                                 0                                 0   \n",
       "4                                 0                                 0   \n",
       "\n",
       "  Minimum children reported killed Maximum children reported killed  \\\n",
       "0                                0                                0   \n",
       "1                                0                                0   \n",
       "2                                0                                0   \n",
       "3                                0                                0   \n",
       "4                                0                                0   \n",
       "\n",
       "  Minimum reported injured  Ratio of Civilians to Total Killed  \\\n",
       "0                        1                                 0.0   \n",
       "1                        3                                 0.0   \n",
       "2                        0                                 0.0   \n",
       "3                        0                                 0.0   \n",
       "4                        0                                 0.0   \n",
       "\n",
       "  Other (Non-civilian/children Killed)  \n",
       "0                                    5  \n",
       "1                                    3  \n",
       "2                                   10  \n",
       "3                                    6  \n",
       "4                                    5  "
      ]
     },
     "execution_count": 3,
     "metadata": {},
     "output_type": "execute_result"
    }
   ],
   "source": [
    "df.head()"
   ]
  },
  {
   "cell_type": "code",
   "execution_count": 4,
   "id": "e94e9a1a-8d14-498e-8703-f5933df97996",
   "metadata": {},
   "outputs": [],
   "source": [
    "# Rename our date column to Date\n",
    "df.rename(columns = {'Date (MM-DD-YYYY)' : 'Date'}, inplace=True)"
   ]
  },
  {
   "cell_type": "code",
   "execution_count": 5,
   "id": "d4314fcf",
   "metadata": {},
   "outputs": [],
   "source": [
    "# convert our date to a pandas datetime field\n",
    "df['Date'] = pd.to_datetime(df['Date'])"
   ]
  },
  {
   "cell_type": "code",
   "execution_count": 6,
   "id": "5b4efadd",
   "metadata": {},
   "outputs": [],
   "source": [
    "# Add a Year and Month column to our dataframe\n",
    "df['Year'] = pd.DatetimeIndex(df['Date']).year\n",
    "df['Month'] =pd.DatetimeIndex(df['Date']).month\n",
    "df['Day'] = df['Date'].dt.day_name()"
   ]
  },
  {
   "cell_type": "markdown",
   "id": "f757d227-5bc3-4f22-bd83-424537512d30",
   "metadata": {},
   "source": [
    "## Lets see what we have"
   ]
  },
  {
   "cell_type": "code",
   "execution_count": 7,
   "id": "69d01ba6-2e35-49db-a454-72058bbccec1",
   "metadata": {},
   "outputs": [
    {
     "data": {
      "text/html": [
       "<div><div id=56f17dc9-2227-4678-9d12-b5378e38e57d style=\"display:none; background-color:#9D6CFF; color:white; width:200px; height:30px; padding-left:5px; border-radius:4px; flex-direction:row; justify-content:space-around; align-items:center;\" onmouseover=\"this.style.backgroundColor='#BA9BF8'\" onmouseout=\"this.style.backgroundColor='#9D6CFF'\" onclick=\"window.commands?.execute('create-mitosheet-from-dataframe-output');\">See Full Dataframe in Mito</div> <script> if (window.commands.hasCommand('create-mitosheet-from-dataframe-output')) document.getElementById('56f17dc9-2227-4678-9d12-b5378e38e57d').style.display = 'flex' </script> <table border=\"1\" class=\"dataframe\">\n",
       "  <thead>\n",
       "    <tr style=\"text-align: right;\">\n",
       "      <th></th>\n",
       "      <th>Strike ID</th>\n",
       "      <th>Country</th>\n",
       "      <th>Date</th>\n",
       "      <th>President</th>\n",
       "      <th>Most Specific Location</th>\n",
       "      <th>Most Specific Lat/Long</th>\n",
       "      <th>Latitude</th>\n",
       "      <th>Longitude</th>\n",
       "      <th>Minimum total people killed</th>\n",
       "      <th>Maximum total people killed</th>\n",
       "      <th>Minimum civilians reported killed</th>\n",
       "      <th>Maximum civilians reported killed</th>\n",
       "      <th>Minimum children reported killed</th>\n",
       "      <th>Maximum children reported killed</th>\n",
       "      <th>Minimum reported injured</th>\n",
       "      <th>Ratio of Civilians to Total Killed</th>\n",
       "      <th>Other (Non-civilian/children Killed)</th>\n",
       "      <th>Year</th>\n",
       "      <th>Month</th>\n",
       "      <th>Day</th>\n",
       "    </tr>\n",
       "  </thead>\n",
       "  <tbody>\n",
       "    <tr>\n",
       "      <th>0</th>\n",
       "      <td>B50</td>\n",
       "      <td>Pakistan</td>\n",
       "      <td>2009-01-01</td>\n",
       "      <td>Bush</td>\n",
       "      <td>Kari Kot, South Waziristan, Pakistan</td>\n",
       "      <td>32.270651,69.554179</td>\n",
       "      <td>32.270651</td>\n",
       "      <td>69.554179</td>\n",
       "      <td>3</td>\n",
       "      <td>5</td>\n",
       "      <td>0</td>\n",
       "      <td>0</td>\n",
       "      <td>0</td>\n",
       "      <td>0</td>\n",
       "      <td>1</td>\n",
       "      <td>0.0</td>\n",
       "      <td>5</td>\n",
       "      <td>2009</td>\n",
       "      <td>1</td>\n",
       "      <td>Thursday</td>\n",
       "    </tr>\n",
       "    <tr>\n",
       "      <th>1</th>\n",
       "      <td>Ob53</td>\n",
       "      <td>Pakistan</td>\n",
       "      <td>2010-01-01</td>\n",
       "      <td>Obama</td>\n",
       "      <td>Ghundikala, North Waziristan, Pakistan</td>\n",
       "      <td>32.959854,70.156371</td>\n",
       "      <td>32.959854</td>\n",
       "      <td>70.156371</td>\n",
       "      <td>2</td>\n",
       "      <td>3</td>\n",
       "      <td>0</td>\n",
       "      <td>0</td>\n",
       "      <td>0</td>\n",
       "      <td>0</td>\n",
       "      <td>3</td>\n",
       "      <td>0.0</td>\n",
       "      <td>3</td>\n",
       "      <td>2010</td>\n",
       "      <td>1</td>\n",
       "      <td>Friday</td>\n",
       "    </tr>\n",
       "    <tr>\n",
       "      <th>2</th>\n",
       "      <td>Ob181</td>\n",
       "      <td>Pakistan</td>\n",
       "      <td>2011-01-01</td>\n",
       "      <td>Obama</td>\n",
       "      <td>Mandi Khel, North Waziristan, Pakistan</td>\n",
       "      <td>33.001031,70.364339</td>\n",
       "      <td>33.001031</td>\n",
       "      <td>70.364339</td>\n",
       "      <td>8</td>\n",
       "      <td>10</td>\n",
       "      <td>0</td>\n",
       "      <td>0</td>\n",
       "      <td>0</td>\n",
       "      <td>0</td>\n",
       "      <td>0</td>\n",
       "      <td>0.0</td>\n",
       "      <td>10</td>\n",
       "      <td>2011</td>\n",
       "      <td>1</td>\n",
       "      <td>Saturday</td>\n",
       "    </tr>\n",
       "    <tr>\n",
       "      <th>3</th>\n",
       "      <td>Ob182</td>\n",
       "      <td>Pakistan</td>\n",
       "      <td>2011-01-01</td>\n",
       "      <td>Obama</td>\n",
       "      <td>Mandi Khel, North Waziristan, Pakistan</td>\n",
       "      <td>33.001031,70.364339</td>\n",
       "      <td>33.001031</td>\n",
       "      <td>70.364339</td>\n",
       "      <td>4</td>\n",
       "      <td>6</td>\n",
       "      <td>0</td>\n",
       "      <td>0</td>\n",
       "      <td>0</td>\n",
       "      <td>0</td>\n",
       "      <td>0</td>\n",
       "      <td>0.0</td>\n",
       "      <td>6</td>\n",
       "      <td>2011</td>\n",
       "      <td>1</td>\n",
       "      <td>Saturday</td>\n",
       "    </tr>\n",
       "    <tr>\n",
       "      <th>4</th>\n",
       "      <td>Ob183</td>\n",
       "      <td>Pakistan</td>\n",
       "      <td>2011-01-01</td>\n",
       "      <td>Obama</td>\n",
       "      <td>Datta Khel, North Waziristan, Pakistan</td>\n",
       "      <td>33.150049,70.433361</td>\n",
       "      <td>33.150049</td>\n",
       "      <td>70.433361</td>\n",
       "      <td>4</td>\n",
       "      <td>5</td>\n",
       "      <td>0</td>\n",
       "      <td>0</td>\n",
       "      <td>0</td>\n",
       "      <td>0</td>\n",
       "      <td>0</td>\n",
       "      <td>0.0</td>\n",
       "      <td>5</td>\n",
       "      <td>2011</td>\n",
       "      <td>1</td>\n",
       "      <td>Saturday</td>\n",
       "    </tr>\n",
       "  </tbody>\n",
       "</table></div>"
      ],
      "text/plain": [
       "  Strike ID   Country       Date President  \\\n",
       "0       B50  Pakistan 2009-01-01      Bush   \n",
       "1      Ob53  Pakistan 2010-01-01     Obama   \n",
       "2     Ob181  Pakistan 2011-01-01     Obama   \n",
       "3     Ob182  Pakistan 2011-01-01     Obama   \n",
       "4     Ob183  Pakistan 2011-01-01     Obama   \n",
       "\n",
       "                   Most Specific Location Most Specific Lat/Long   Latitude  \\\n",
       "0    Kari Kot, South Waziristan, Pakistan    32.270651,69.554179  32.270651   \n",
       "1  Ghundikala, North Waziristan, Pakistan    32.959854,70.156371  32.959854   \n",
       "2  Mandi Khel, North Waziristan, Pakistan    33.001031,70.364339  33.001031   \n",
       "3  Mandi Khel, North Waziristan, Pakistan    33.001031,70.364339  33.001031   \n",
       "4  Datta Khel, North Waziristan, Pakistan    33.150049,70.433361  33.150049   \n",
       "\n",
       "   Longitude Minimum total people killed Maximum total people killed  \\\n",
       "0  69.554179                           3                           5   \n",
       "1  70.156371                           2                           3   \n",
       "2  70.364339                           8                          10   \n",
       "3  70.364339                           4                           6   \n",
       "4  70.433361                           4                           5   \n",
       "\n",
       "  Minimum civilians reported killed Maximum civilians reported killed  \\\n",
       "0                                 0                                 0   \n",
       "1                                 0                                 0   \n",
       "2                                 0                                 0   \n",
       "3                                 0                                 0   \n",
       "4                                 0                                 0   \n",
       "\n",
       "  Minimum children reported killed Maximum children reported killed  \\\n",
       "0                                0                                0   \n",
       "1                                0                                0   \n",
       "2                                0                                0   \n",
       "3                                0                                0   \n",
       "4                                0                                0   \n",
       "\n",
       "  Minimum reported injured  Ratio of Civilians to Total Killed  \\\n",
       "0                        1                                 0.0   \n",
       "1                        3                                 0.0   \n",
       "2                        0                                 0.0   \n",
       "3                        0                                 0.0   \n",
       "4                        0                                 0.0   \n",
       "\n",
       "  Other (Non-civilian/children Killed)  Year  Month       Day  \n",
       "0                                    5  2009      1  Thursday  \n",
       "1                                    3  2010      1    Friday  \n",
       "2                                   10  2011      1  Saturday  \n",
       "3                                    6  2011      1  Saturday  \n",
       "4                                    5  2011      1  Saturday  "
      ]
     },
     "execution_count": 7,
     "metadata": {},
     "output_type": "execute_result"
    }
   ],
   "source": [
    "# Check we loaded our data\n",
    "df.head()"
   ]
  },
  {
   "cell_type": "code",
   "execution_count": 8,
   "id": "cbfb3dbb-16e3-4ee6-8a96-ecc7c5b4b0bb",
   "metadata": {},
   "outputs": [
    {
     "data": {
      "application/vnd.jupyter.widget-view+json": {
       "model_id": "32961532b9a64a3ab0e96a4cac5ace71",
       "version_major": 2,
       "version_minor": 0
      },
      "text/plain": [
       "MitoWidget(analysis_data_json='{\"analysisName\": \"UUID-81ed1192-245e-4a19-9625-4d4ede2e339f\", \"code\": {\"imports…"
      ]
     },
     "metadata": {},
     "output_type": "display_data"
    }
   ],
   "source": [
    "mitosheet.sheet(df, view_df=True)"
   ]
  },
  {
   "cell_type": "code",
   "execution_count": null,
   "id": "9f288e64-2306-4133-a775-6f98503c3cf8",
   "metadata": {},
   "outputs": [],
   "source": []
  },
  {
   "cell_type": "code",
   "execution_count": 9,
   "id": "fac16ae0-90c0-4de1-89f4-a0ba14e8a6aa",
   "metadata": {},
   "outputs": [
    {
     "name": "stdout",
     "output_type": "stream",
     "text": [
      "<class 'pandas.core.frame.DataFrame'>\n",
      "RangeIndex: 1696 entries, 0 to 1695\n",
      "Data columns (total 20 columns):\n",
      " #   Column                                Non-Null Count  Dtype         \n",
      "---  ------                                --------------  -----         \n",
      " 0   Strike ID                             1696 non-null   object        \n",
      " 1   Country                               1696 non-null   object        \n",
      " 2   Date                                  1696 non-null   datetime64[ns]\n",
      " 3   President                             1696 non-null   object        \n",
      " 4   Most Specific Location                1696 non-null   object        \n",
      " 5   Most Specific Lat/Long                1696 non-null   object        \n",
      " 6   Latitude                              1659 non-null   float64       \n",
      " 7   Longitude                             1660 non-null   float64       \n",
      " 8   Minimum total people killed           1696 non-null   object        \n",
      " 9   Maximum total people killed           1696 non-null   object        \n",
      " 10  Minimum civilians reported killed     1696 non-null   object        \n",
      " 11  Maximum civilians reported killed     1696 non-null   object        \n",
      " 12  Minimum children reported killed      1696 non-null   object        \n",
      " 13  Maximum children reported killed      1696 non-null   object        \n",
      " 14  Minimum reported injured              1696 non-null   object        \n",
      " 15  Ratio of Civilians to Total Killed    1695 non-null   float64       \n",
      " 16  Other (Non-civilian/children Killed)  1696 non-null   object        \n",
      " 17  Year                                  1696 non-null   int64         \n",
      " 18  Month                                 1696 non-null   int64         \n",
      " 19  Day                                   1696 non-null   object        \n",
      "dtypes: datetime64[ns](1), float64(3), int64(2), object(14)\n",
      "memory usage: 265.1+ KB\n"
     ]
    }
   ],
   "source": [
    "# Lets see what we have\n",
    "df.info()"
   ]
  },
  {
   "cell_type": "code",
   "execution_count": 10,
   "id": "127976a3",
   "metadata": {},
   "outputs": [
    {
     "data": {
      "text/plain": [
       "Index(['Strike ID', 'Country', 'Date', 'President', 'Most Specific Location',\n",
       "       'Most Specific Lat/Long', 'Latitude', 'Longitude',\n",
       "       'Minimum total people killed', 'Maximum total people killed',\n",
       "       'Minimum civilians reported killed',\n",
       "       'Maximum civilians reported killed', 'Minimum children reported killed',\n",
       "       'Maximum children reported killed', 'Minimum reported injured',\n",
       "       'Ratio of Civilians to Total Killed',\n",
       "       'Other (Non-civilian/children Killed)', 'Year', 'Month', 'Day'],\n",
       "      dtype='object')"
      ]
     },
     "execution_count": 10,
     "metadata": {},
     "output_type": "execute_result"
    }
   ],
   "source": [
    "# Check our Column Names\n",
    "df.columns"
   ]
  },
  {
   "cell_type": "markdown",
   "id": "bc17ef83-330d-4f98-bfc2-5b027ea8e670",
   "metadata": {},
   "source": [
    "## Data Cleansing"
   ]
  },
  {
   "cell_type": "markdown",
   "id": "fa06ce32-4ae9-439b-91ec-b49e00cf35a6",
   "metadata": {},
   "source": [
    "### Trim Trailing spaces from columns in Pandas"
   ]
  },
  {
   "cell_type": "code",
   "execution_count": 11,
   "id": "fc3f5049-1a30-4427-9771-8d67f6c9cda1",
   "metadata": {},
   "outputs": [],
   "source": [
    "# Trim leading and trailing spaces\n",
    "df['Country'] = df['Country'].str.strip()\n",
    "df['Most Specific Location'] = df['Most Specific Location'].str.strip()"
   ]
  },
  {
   "cell_type": "markdown",
   "id": "b7453e84-7b9a-4d3a-a5d9-de04588733b2",
   "metadata": {},
   "source": [
    "### Dealing with some of our 'Unknown' values\n",
    "This code deals with data in our 'Country' column that is set to 'Unknown\".\n",
    "We fix this so when we move on to the next section when we clean up Latitude\n",
    "and Longitude we have valid Country names."
   ]
  },
  {
   "cell_type": "code",
   "execution_count": 12,
   "id": "7dd76ae8",
   "metadata": {},
   "outputs": [],
   "source": [
    "# Data Clensing\n",
    "# Fix Unknown 'Most Specific Location'\n",
    "# Set our Country Masks\n",
    "is_yemen = df['Country'] == 'Yemen'\n",
    "is_somalia = df['Country'] == 'Somalia'\n",
    "is_pakistan = df['Country'] == 'Pakistan'\n",
    "is_afghanistan =df['Country'] == 'Afghanistan'\n",
    "\n",
    "# Set a mask to grab our Unknown 'Most Specific Locations'\n",
    "# We will use this to set the 'Most Specific Location'\n",
    "is_unknown = df['Most Specific Location'] == 'Unknown'\n",
    "\n",
    "# Fix the spelling of Afghanistan\n",
    "is_afganistan = df['Country'] == 'Afganistan'\n",
    "df.loc[(is_afganistan), 'Country'] = 'Afghanistan'\n",
    "\n",
    "# Fix up our Unknown 'Most Specific Locations' by country\n",
    "df.loc[(is_yemen & is_unknown), 'Most Specific Location'] = 'Yemen, Unknown'\n",
    "df.loc[(is_somalia & is_unknown), 'Most Specific Location'] = 'Somalia, Unknown'\n",
    "df.loc[(is_pakistan & is_unknown), 'Most Specific Location'] = 'Pakistan, Unknown'\n",
    "df.loc[(is_afghanistan & is_unknown), 'Most Specific Location'] = 'Afghanistan, Unknown'"
   ]
  },
  {
   "cell_type": "markdown",
   "id": "3eb5b933-48f6-4c8b-84fa-e956c616193f",
   "metadata": {
    "tags": []
   },
   "source": [
    "### Setting Lat and Long for our previously 'Unknown' locations\n",
    "Here I set the Lat and Long for any 'Unknown' detected in the step above. I have used a fefault Lat/Long pair for each Country. This was just chosen at random from Google Maps"
   ]
  },
  {
   "cell_type": "code",
   "execution_count": 13,
   "id": "5c19c306-6ce5-4984-b34e-33e4034e6cc5",
   "metadata": {},
   "outputs": [],
   "source": [
    "# Get a list off all the rows where there is an unknown for \"Most Specific Lat/Long\"\n",
    "ms_latlong = df[\"Most Specific Lat/Long\"] == 'Unknown'\n",
    "\n",
    "# Using our Country mask from the step above and our new ms_latlong mask we can assign\n",
    "# default lat long co-ords to any data in the'Most Specific Lat/Long' column\n",
    "df.loc[(is_yemen & ms_latlong), \"Most Specific Lat/Long\"] = '14.454376, 45.102241'\n",
    "df.loc[(is_somalia & ms_latlong), \"Most Specific Lat/Long\"] = '-1.496491, 41.592160'\n",
    "df.loc[(is_pakistan & ms_latlong), \"Most Specific Lat/Long\"] = '33.976996, 69.951233'\n",
    "df.loc[(is_afghanistan & ms_latlong), \"Most Specific Lat/Long\"] = '29.484804, 62.761735'"
   ]
  },
  {
   "cell_type": "markdown",
   "id": "8126736e-1515-43dc-a4ae-baefe962b2ff",
   "metadata": {},
   "source": [
    "### Dealing with a particular Excel error in our dataset\n",
    "Because the dataset has used data from calculated fields in our initial spreadsheet,  some of these claculated fields were not valid and Excel marks them as '#VALUE!' error. When we import this data into pandas the errors come across."
   ]
  },
  {
   "cell_type": "code",
   "execution_count": 14,
   "id": "92421b0b-fd51-4d50-a1a1-4ff015ac5855",
   "metadata": {},
   "outputs": [],
   "source": [
    "# Fix '#VALUE!'\n",
    "is_value = df['Other (Non-civilian/children Killed)'] == '#VALUE!'\n",
    "df.loc[(is_value), 'Other (Non-civilian/children Killed)'] = 0"
   ]
  },
  {
   "cell_type": "markdown",
   "id": "04c57c49-a4f7-4b2c-ae5e-83654a6faaaf",
   "metadata": {},
   "source": [
    "### Replacing one data value for another in specific columns"
   ]
  },
  {
   "cell_type": "code",
   "execution_count": 15,
   "id": "bbec61c1-8c5c-41d3-b292-83205ddffd6f",
   "metadata": {},
   "outputs": [],
   "source": [
    "# Replace the minus sign in the column list below\n",
    "col = ['Minimum total people killed', 'Maximum total people killed',\n",
    "       'Minimum civilians reported killed','Maximum civilians reported killed',\n",
    "       'Minimum children reported killed', 'Maximum children reported killed',\n",
    "       'Minimum reported injured' ]\n",
    "\n",
    "for i in col:\n",
    "  df[i] = df[i].replace('-', \"0\")"
   ]
  },
  {
   "cell_type": "markdown",
   "id": "ec6827dc-e802-43b8-bc35-923e83676c71",
   "metadata": {},
   "source": [
    "### Fix the erroneous data in the 'Most Specific Lat/Long'\n",
    "Because humans added this data somewhere they have also intriduced errors. \n",
    "Using a regular expresion we can clean up our data in this column efficently"
   ]
  },
  {
   "cell_type": "code",
   "execution_count": 16,
   "id": "57f297bc-e62d-46de-8cb5-955b8d530013",
   "metadata": {},
   "outputs": [],
   "source": [
    "# Create list to hold our lLatitude and Longitude cleaned data\n",
    "lat_list = []\n",
    "long_list = []\n",
    "\n",
    "# Set the Regular Expresion that we want to find in our data\n",
    "pattern = re.compile(r\"-?\\d\\d?\\.\\d+\")\n",
    "\n",
    "# Loop through our column and extract the Lat and long values and append to our lists\n",
    "for pair in df['Most Specific Lat/Long']:\n",
    "    match = pattern.findall(pair)\n",
    "    if len(match) == 2:\n",
    "        lat, long = match\n",
    "        lat_list.append(lat)\n",
    "        long_list.append(long)\n",
    "\n",
    "# Set the 'Latitude' and 'Longitude' values to our cleaned values\n",
    "df['Latitude'] = lat_list\n",
    "df['Longitude'] = long_list"
   ]
  },
  {
   "cell_type": "markdown",
   "id": "7a28ad1f-5331-475b-ab21-31298e1b057a",
   "metadata": {},
   "source": [
    "### Set our column datatypes"
   ]
  },
  {
   "cell_type": "code",
   "execution_count": 17,
   "id": "5816440f-1675-4183-a472-ccf9f0a685be",
   "metadata": {},
   "outputs": [],
   "source": [
    "# Sort out our data types\n",
    "df = df.astype({'Latitude': 'float64',\n",
    "                'Longitude' : 'float64',\n",
    "                'Minimum total people killed': 'int64',\n",
    "                'Maximum total people killed': 'int64',\n",
    "                'Minimum civilians reported killed': 'int64',\n",
    "                'Maximum civilians reported killed': 'int64',\n",
    "                'Minimum children reported killed': 'int64',\n",
    "                'Maximum children reported killed': 'int64',\n",
    "                'Minimum reported injured': 'int64',\n",
    "                'Other (Non-civilian/children Killed)': 'int64'\n",
    "               })"
   ]
  },
  {
   "cell_type": "code",
   "execution_count": 18,
   "id": "161da3fe-c757-4551-8dfe-501d1dd85f60",
   "metadata": {},
   "outputs": [
    {
     "data": {
      "application/vnd.jupyter.widget-view+json": {
       "model_id": "5e37bd1c64044ff1ba19a401e8db9596",
       "version_major": 2,
       "version_minor": 0
      },
      "text/plain": [
       "MitoWidget(analysis_data_json='{\"analysisName\": \"UUID-80d53523-2b13-4aad-91fa-afec1b1bc1f9\", \"code\": {\"imports…"
      ]
     },
     "metadata": {},
     "output_type": "display_data"
    }
   ],
   "source": [
    "mitosheet.sheet(df, view_df=True)"
   ]
  },
  {
   "cell_type": "code",
   "execution_count": 19,
   "id": "fc19d2dd-613f-4624-9ee3-995cabce544d",
   "metadata": {},
   "outputs": [
    {
     "name": "stdout",
     "output_type": "stream",
     "text": [
      "<class 'pandas.core.frame.DataFrame'>\n",
      "RangeIndex: 1696 entries, 0 to 1695\n",
      "Data columns (total 20 columns):\n",
      " #   Column                                Non-Null Count  Dtype         \n",
      "---  ------                                --------------  -----         \n",
      " 0   Strike ID                             1696 non-null   object        \n",
      " 1   Country                               1696 non-null   object        \n",
      " 2   Date                                  1696 non-null   datetime64[ns]\n",
      " 3   President                             1696 non-null   object        \n",
      " 4   Most Specific Location                1696 non-null   object        \n",
      " 5   Most Specific Lat/Long                1696 non-null   object        \n",
      " 6   Latitude                              1696 non-null   float64       \n",
      " 7   Longitude                             1696 non-null   float64       \n",
      " 8   Minimum total people killed           1696 non-null   int64         \n",
      " 9   Maximum total people killed           1696 non-null   int64         \n",
      " 10  Minimum civilians reported killed     1696 non-null   int64         \n",
      " 11  Maximum civilians reported killed     1696 non-null   int64         \n",
      " 12  Minimum children reported killed      1696 non-null   int64         \n",
      " 13  Maximum children reported killed      1696 non-null   int64         \n",
      " 14  Minimum reported injured              1696 non-null   int64         \n",
      " 15  Ratio of Civilians to Total Killed    1695 non-null   float64       \n",
      " 16  Other (Non-civilian/children Killed)  1696 non-null   int64         \n",
      " 17  Year                                  1696 non-null   int64         \n",
      " 18  Month                                 1696 non-null   int64         \n",
      " 19  Day                                   1696 non-null   object        \n",
      "dtypes: datetime64[ns](1), float64(3), int64(10), object(6)\n",
      "memory usage: 265.1+ KB\n"
     ]
    }
   ],
   "source": [
    "df.info()"
   ]
  },
  {
   "cell_type": "markdown",
   "id": "d24148b8-7654-4d33-a8e7-5308dfd45154",
   "metadata": {},
   "source": [
    "### Save our cleansed data to a new spreadsheet"
   ]
  },
  {
   "cell_type": "code",
   "execution_count": 20,
   "id": "4a157390-f982-4170-90da-1024572036b8",
   "metadata": {},
   "outputs": [],
   "source": [
    "# Export our newly formated dataframe to excel but drop our pandas index column\n",
    "df.to_excel('C:/Users/twelsh/data/Notebooks/drone-strikes/published/drone-strikes.xlsx', index=False)"
   ]
  },
  {
   "cell_type": "code",
   "execution_count": null,
   "id": "7fbd310c-7c29-4d6e-836d-68cc7d8a5ca5",
   "metadata": {},
   "outputs": [],
   "source": []
  }
 ],
 "metadata": {
  "kernelspec": {
   "display_name": "Python 3 (ipykernel)",
   "language": "python",
   "name": "python3"
  },
  "language_info": {
   "codemirror_mode": {
    "name": "ipython",
    "version": 3
   },
   "file_extension": ".py",
   "mimetype": "text/x-python",
   "name": "python",
   "nbconvert_exporter": "python",
   "pygments_lexer": "ipython3",
   "version": "3.9.7"
  }
 },
 "nbformat": 4,
 "nbformat_minor": 5
}
