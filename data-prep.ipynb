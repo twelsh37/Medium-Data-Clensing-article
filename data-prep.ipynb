{
 "cells": [
  {
   "cell_type": "markdown",
   "id": "d0faade5-035c-41a6-a995-e48db339cd8c",
   "metadata": {},
   "source": [
    "# Military Drone Strikes, Afgan, Pakistan, Yemen and Somalia\n",
    "\n",
    "This script is used to prepare our data for future analysis. it reads in the DroneWarsData_tw.xlsx spreadsheet and outputs drone-strikes.xlsx spreadsheet.\n",
    "\n",
    "We can then use the data in drone-strikes.xlsx in our data analysis piece\n",
    "\n",
    "The DroneWarsData.xlsx can be downloaded from the dronewars.io website\n",
    "https://dronewars.github.io/data/DroneWarsData.xlsx"
   ]
  },
  {
   "cell_type": "code",
   "execution_count": null,
   "id": "dd29fcb1",
   "metadata": {},
   "outputs": [],
   "source": [
    "import pandas as pd\n",
    "from pandas.api.types import CategoricalDtype\n",
    "import mitosheet\n",
    "import re"
   ]
  },
  {
   "cell_type": "code",
   "execution_count": null,
   "id": "dd00e8c2",
   "metadata": {},
   "outputs": [],
   "source": [
    "# Read in the 'All' sheet\n",
    "df = pd.read_excel('DroneWarsData.xlsx', sheet_name = 'All')"
   ]
  },
  {
   "cell_type": "code",
   "execution_count": null,
   "id": "d4314fcf",
   "metadata": {},
   "outputs": [],
   "source": [
    "# convert our date to a pandas datetime field\n",
    "df['Date (MM-DD-YYYY)'] = pd.to_datetime(df['Date (MM-DD-YYYY)'])"
   ]
  },
  {
   "cell_type": "code",
   "execution_count": null,
   "id": "b26ff234",
   "metadata": {},
   "outputs": [],
   "source": [
    "# Rename our date column to Date\n",
    "df.rename(columns = {'Date (MM-DD-YYYY)' : 'Date'}, inplace=True)"
   ]
  },
  {
   "cell_type": "code",
   "execution_count": null,
   "id": "5b4efadd",
   "metadata": {},
   "outputs": [],
   "source": [
    "# Add a Year and Month column to our dataframe\n",
    "df['Year'] = pd.DatetimeIndex(df['Date']).year\n",
    "df['Month'] =pd.DatetimeIndex(df['Date']).month\n",
    "df['Day'] = df['Date'].dt.day_name()"
   ]
  },
  {
   "cell_type": "markdown",
   "id": "f757d227-5bc3-4f22-bd83-424537512d30",
   "metadata": {},
   "source": [
    "## Lets see what we have"
   ]
  },
  {
   "cell_type": "code",
   "execution_count": null,
   "id": "69d01ba6-2e35-49db-a454-72058bbccec1",
   "metadata": {},
   "outputs": [],
   "source": [
    "# Check we loaded our data\n",
    "df.head()"
   ]
  },
  {
   "cell_type": "code",
   "execution_count": null,
   "id": "cbfb3dbb-16e3-4ee6-8a96-ecc7c5b4b0bb",
   "metadata": {},
   "outputs": [],
   "source": [
    "mitosheet.sheet(df, view_df=True)"
   ]
  },
  {
   "cell_type": "code",
   "execution_count": null,
   "id": "fac16ae0-90c0-4de1-89f4-a0ba14e8a6aa",
   "metadata": {},
   "outputs": [],
   "source": [
    "# Lets see what we have\n",
    "df.info()"
   ]
  },
  {
   "cell_type": "code",
   "execution_count": null,
   "id": "127976a3",
   "metadata": {},
   "outputs": [],
   "source": [
    "# Check our Column Names\n",
    "df.columns"
   ]
  },
  {
   "cell_type": "code",
   "execution_count": null,
   "id": "787de2b7",
   "metadata": {},
   "outputs": [],
   "source": [
    "df.info()"
   ]
  },
  {
   "cell_type": "markdown",
   "id": "bc17ef83-330d-4f98-bfc2-5b027ea8e670",
   "metadata": {},
   "source": [
    "## Data Cleansing"
   ]
  },
  {
   "cell_type": "markdown",
   "id": "fa06ce32-4ae9-439b-91ec-b49e00cf35a6",
   "metadata": {},
   "source": [
    "### Trim Trailing spaces from columns in Pandas"
   ]
  },
  {
   "cell_type": "code",
   "execution_count": null,
   "id": "fc3f5049-1a30-4427-9771-8d67f6c9cda1",
   "metadata": {},
   "outputs": [],
   "source": [
    "# Trim leading and trailing spaces\n",
    "df['Country'] = df['Country'].str.strip()\n",
    "df['Most Specific Location'] = df['Most Specific Location'].str.strip()"
   ]
  },
  {
   "cell_type": "markdown",
   "id": "b7453e84-7b9a-4d3a-a5d9-de04588733b2",
   "metadata": {},
   "source": [
    "### Dealing with some of our 'Unknown' values\n",
    "This code deals with data in our 'Country' column that is set to 'Unknown\".\n",
    "We fix this so when we move on to the next section when we clean up Latitude\n",
    "and Longitude we have valid Country names."
   ]
  },
  {
   "cell_type": "code",
   "execution_count": null,
   "id": "7dd76ae8",
   "metadata": {},
   "outputs": [],
   "source": [
    "# Data Clensing\n",
    "# Fix Unknown 'Most Specific Location'\n",
    "# Set our Country Masks\n",
    "is_yemen = df['Country'] == 'Yemen'\n",
    "is_somalia = df['Country'] == 'Somalia'\n",
    "is_pakistan = df['Country'] == 'Pakistan'\n",
    "is_afghanistan =df['Country'] == 'Afghanistan'\n",
    "\n",
    "# Set a mask to grab our Unknown 'Most Specific Locations'\n",
    "# We will use this to set the 'Most Specific Location'\n",
    "is_unknown = df['Most Specific Location'] == 'Unknown'\n",
    "\n",
    "# Fix the spelling of Afghanistan\n",
    "is_afganistan = df['Country'] == 'Afganistan'\n",
    "df.loc[(is_afganistan), 'Country'] = 'Afghanistan'\n",
    "\n",
    "# Fix up our Unknown 'Most Specific Locations' by country\n",
    "df.loc[(is_yemen & is_unknown), 'Most Specific Location'] = 'Yemen, Unknown'\n",
    "df.loc[(is_somalia & is_unknown), 'Most Specific Location'] = 'Somalia, Unknown'\n",
    "df.loc[(is_pakistan & is_unknown), 'Most Specific Location'] = 'Pakistan, Unknown'\n",
    "df.loc[(is_afghanistan & is_unknown), 'Most Specific Location'] = 'Afghanistan, Unknown'"
   ]
  },
  {
   "cell_type": "markdown",
   "id": "3eb5b933-48f6-4c8b-84fa-e956c616193f",
   "metadata": {
    "tags": []
   },
   "source": [
    "### Setting Lat and Long for our previously 'Unknown' locations\n",
    "Here I set the Lat and Long for any 'Unknown' detected in the step above. I have used a fefault Lat/Long pair for each Country. This was just chosen at random from Google Maps"
   ]
  },
  {
   "cell_type": "code",
   "execution_count": null,
   "id": "5c19c306-6ce5-4984-b34e-33e4034e6cc5",
   "metadata": {},
   "outputs": [],
   "source": [
    "# Get a list off all the rows where there is an unknown for \"Most Specific Lat/Long\"\n",
    "ms_latlong = df[\"Most Specific Lat/Long\"] == 'Unknown'\n",
    "\n",
    "# Using our Country mask from the step above and our new ms_latlong mask we can assign\n",
    "# default lat long co-ords to any data in the'Most Specific Lat/Long' column\n",
    "df.loc[(is_yemen & ms_latlong), \"Most Specific Lat/Long\"] = '14.454376, 45.102241'\n",
    "df.loc[(is_somalia & ms_latlong), \"Most Specific Lat/Long\"] = '-1.496491, 41.592160'\n",
    "df.loc[(is_pakistan & ms_latlong), \"Most Specific Lat/Long\"] = '33.976996, 69.951233'\n",
    "df.loc[(is_afghanistan & ms_latlong), \"Most Specific Lat/Long\"] = '29.484804, 62.761735'"
   ]
  },
  {
   "cell_type": "markdown",
   "id": "8126736e-1515-43dc-a4ae-baefe962b2ff",
   "metadata": {},
   "source": [
    "### Dealing with a particular Excel error in our dataset\n",
    "Because the dataset has used data from calculated fields in our initial spreadsheet,  some of these claculated fields were not valid and Excel marks them as '#VALUE!' error. When we import this data into pandas the errors come across."
   ]
  },
  {
   "cell_type": "code",
   "execution_count": null,
   "id": "92421b0b-fd51-4d50-a1a1-4ff015ac5855",
   "metadata": {},
   "outputs": [],
   "source": [
    "# Fix '#VALUE!'\n",
    "is_value = df['Other (Non-civilian/children Killed)'] == '#VALUE!'\n",
    "df.loc[(is_value), 'Other (Non-civilian/children Killed)'] = 0"
   ]
  },
  {
   "cell_type": "markdown",
   "id": "04c57c49-a4f7-4b2c-ae5e-83654a6faaaf",
   "metadata": {},
   "source": [
    "### Replacing one data value for another in specific columns"
   ]
  },
  {
   "cell_type": "code",
   "execution_count": null,
   "id": "bbec61c1-8c5c-41d3-b292-83205ddffd6f",
   "metadata": {},
   "outputs": [],
   "source": [
    "# Replace the minus sign in the column list below\n",
    "col = ['Minimum total people killed', 'Maximum total people killed',\n",
    "       'Minimum civilians reported killed','Maximum civilians reported killed',\n",
    "       'Minimum children reported killed', 'Maximum children reported killed',\n",
    "       'Minimum reported injured' ]\n",
    "\n",
    "for i in col:\n",
    "  df[i] = df[i].replace('-', \"0\")"
   ]
  },
  {
   "cell_type": "markdown",
   "id": "ec6827dc-e802-43b8-bc35-923e83676c71",
   "metadata": {},
   "source": [
    "### Fix the erroneous data in the 'Most Specific Lat/Long'\n",
    "Because humans added this data somewhere they have also intriduced errors. \n",
    "Using a regular expresion we can clean up our data in this column efficently"
   ]
  },
  {
   "cell_type": "code",
   "execution_count": null,
   "id": "57f297bc-e62d-46de-8cb5-955b8d530013",
   "metadata": {},
   "outputs": [],
   "source": [
    "# Create list to hold our lLatitude and Longitude cleaned data\n",
    "lat_list = []\n",
    "long_list = []\n",
    "\n",
    "# Set the Regular Expresion that we want to find in our data\n",
    "pattern = re.compile(r\"-?\\d\\d?\\.\\d+\")\n",
    "\n",
    "# Loop through our column and extract the Lat and long values and append to our lists\n",
    "for pair in df['Most Specific Lat/Long']:\n",
    "    match = pattern.findall(pair)\n",
    "    if len(match) == 2:\n",
    "        lat, long = match\n",
    "        lat_list.append(lat)\n",
    "        long_list.append(long)\n",
    "\n",
    "# Set the 'Latitude' and 'Longitude' values to our cleaned values\n",
    "df['Latitude'] = lat_list\n",
    "df['Longitude'] = long_list"
   ]
  },
  {
   "cell_type": "code",
   "execution_count": null,
   "id": "12de3803",
   "metadata": {},
   "outputs": [],
   "source": [
    "mitosheet.sheet(df, view_df=True)"
   ]
  },
  {
   "cell_type": "markdown",
   "id": "7a28ad1f-5331-475b-ab21-31298e1b057a",
   "metadata": {},
   "source": [
    "### Set our column datatypes"
   ]
  },
  {
   "cell_type": "code",
   "execution_count": null,
   "id": "5816440f-1675-4183-a472-ccf9f0a685be",
   "metadata": {},
   "outputs": [],
   "source": [
    "# Sort out our data types\n",
    "df = df.astype({'Latitude': 'float64',\n",
    "                'Longitude' : 'float64',\n",
    "                'Minimum total people killed': 'int64',\n",
    "                'Maximum total people killed': 'int64',\n",
    "                'Minimum civilians reported killed': 'int64',\n",
    "                'Maximum civilians reported killed': 'int64',\n",
    "                'Minimum children reported killed': 'int64',\n",
    "                'Maximum children reported killed': 'int64',\n",
    "                'Minimum reported injured': 'int64',\n",
    "                'Other (Non-civilian/children Killed)': 'int64'\n",
    "               })"
   ]
  },
  {
   "cell_type": "code",
   "execution_count": null,
   "id": "161da3fe-c757-4551-8dfe-501d1dd85f60",
   "metadata": {},
   "outputs": [],
   "source": [
    "df.info()"
   ]
  },
  {
   "cell_type": "markdown",
   "id": "d24148b8-7654-4d33-a8e7-5308dfd45154",
   "metadata": {},
   "source": [
    "### Save our cleansed data to a new spreadsheet"
   ]
  },
  {
   "cell_type": "code",
   "execution_count": null,
   "id": "4a157390-f982-4170-90da-1024572036b8",
   "metadata": {},
   "outputs": [],
   "source": [
    "# Export our newly formated dataframe to excel but drop our pandas index column\n",
    "df.to_excel('C:/Users/twelsh/data/Notebooks/drone-strikes/published/drone-strikes.xlsx', index=False)"
   ]
  }
 ],
 "metadata": {
  "kernelspec": {
   "display_name": "Python 3 (ipykernel)",
   "language": "python",
   "name": "python3"
  },
  "language_info": {
   "codemirror_mode": {
    "name": "ipython",
    "version": 3
   },
   "file_extension": ".py",
   "mimetype": "text/x-python",
   "name": "python",
   "nbconvert_exporter": "python",
   "pygments_lexer": "ipython3",
   "version": "3.9.7"
  }
 },
 "nbformat": 4,
 "nbformat_minor": 5
}
