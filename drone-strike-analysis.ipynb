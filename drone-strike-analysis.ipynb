{
 "cells": [
  {
   "cell_type": "markdown",
   "id": "c6b634fc-929f-415b-9ef9-d59c9d1f7f13",
   "metadata": {},
   "source": [
    "# Military Drone Strikes, Afgan, Pakistan, Yemen and Somalia (Part 2)\n",
    "\n",
    "This script is a continuation of Part 1 where we take our clensed data in the drone-strikes.xlsx spreadsheet and plot its data.\n",
    "\n",
    "Plotting is carried out using the Plotly graphing library\n"
   ]
  },
  {
   "cell_type": "code",
   "execution_count": null,
   "id": "98412ebd-a12a-47e9-b4ad-6ec880596997",
   "metadata": {},
   "outputs": [],
   "source": [
    "import pandas as pd\n",
    "from pandas.api.types import CategoricalDtype\n",
    "import plotly.express as px\n",
    "import plotly.graph_objects as go\n",
    "import re\n",
    "import mitosheet\n",
    "\n",
    "# import our config file which hol;ds our mapbox access token\n",
    "# we have the config.py file in our .gitignore so the file is \n",
    "# not synced to git thereby exposing our key\n",
    "from config import token"
   ]
  },
  {
   "cell_type": "markdown",
   "id": "b726e721-6fdc-4273-b2d7-d956380e0ee4",
   "metadata": {},
   "source": [
    "## Lets get plotting our data"
   ]
  },
  {
   "cell_type": "markdown",
   "id": "d508f39e-1f62-49fc-a26a-35cfd8e3d809",
   "metadata": {},
   "source": [
    "### Read in our processed data file from part 1"
   ]
  },
  {
   "cell_type": "code",
   "execution_count": null,
   "id": "6b128312-57eb-4613-97f0-779026660970",
   "metadata": {},
   "outputs": [],
   "source": [
    "df = pd.read_excel('drone-strikes.xlsx')"
   ]
  },
  {
   "cell_type": "markdown",
   "id": "609a6aaf-682e-481c-a40c-68427b8359e3",
   "metadata": {},
   "source": [
    "### Create a template that we can use for our Charts\n",
    "To save time and cut down on repetitiveness it is good to define a template of our reguarly used Plotly attributes. "
   ]
  },
  {
   "cell_type": "code",
   "execution_count": null,
   "id": "0efd5f10-c640-48a7-bac7-025e4dd0cf8a",
   "metadata": {},
   "outputs": [],
   "source": [
    "# Create our custom template\n",
    "da_template = {\n",
    "    \"layout\": go.Layout(\n",
    "        font={\n",
    "            \"family\": \"Arial\",\n",
    "            \"size\": 12,\n",
    "            \"color\": \"#707070\",\n",
    "        },\n",
    "        title={\n",
    "            \"font\": {\n",
    "                \"family\": \"Arial\",\n",
    "                \"size\": 18,\n",
    "                \"color\": \"#1f1f1f\",\n",
    "            },\n",
    "        },\n",
    "        height=800,\n",
    "        width=800,\n",
    "        paper_bgcolor ='rgba(0,0,0,0)',\n",
    "        plot_bgcolor ='rgba(0,0,0,0)',\n",
    "        colorway = px.colors.qualitative.G10,\n",
    "        title_x = 0.01\n",
    "    )\n",
    "}"
   ]
  },
  {
   "cell_type": "code",
   "execution_count": null,
   "id": "774f145c-82aa-44fd-9c47-8efe6935f65f",
   "metadata": {},
   "outputs": [],
   "source": [
    "# Function to style a title and subtitle. we use this to credit our plots with data sources\n",
    "# Inspiration from https://towardsdatascience.com/a-clean-style-for-plotly-charts-250ba2f5f015\n",
    "def format_title(title, subtitle=None, subtitle_font_size=14):\n",
    "    title = f'<b>{title}</b>'\n",
    "    if not subtitle:\n",
    "        return title\n",
    "    subtitle = f'<span style=\"font-size: {subtitle_font_size}px;\">{subtitle}</span>'\n",
    "    return f'{title}<br>{subtitle}'"
   ]
  },
  {
   "cell_type": "markdown",
   "id": "faa00029-0bf3-4509-a896-ba2ac966867e",
   "metadata": {},
   "source": [
    "### Chart utilising Plotly scatter_mapbox\n",
    "This chart makes use of the Latitude and Longitude data from our cleansed dataframe\n",
    "You need to have a mapbox access token to access their maps. Failure to have a token will result in a blank chart"
   ]
  },
  {
   "cell_type": "code",
   "execution_count": null,
   "id": "f3203f1a-e91e-4063-9911-fe194210e26e",
   "metadata": {},
   "outputs": [],
   "source": [
    "# Import our Mapbox access token from our config file\n",
    "mapbox_token = token\n",
    "\n",
    "px.set_mapbox_access_token(mapbox_token)\n",
    "fig = px.scatter_mapbox(df,\n",
    "                        lat='Latitude',\n",
    "                        lon='Longitude',\n",
    "                        color='Maximum total people killed',\n",
    "                        size='Maximum total people killed',\n",
    "                        # Defining our colour scale for mapping the strikes\n",
    "                        # https://plotly.com/python/builtin-colorscales/\n",
    "                        color_continuous_scale=px.colors.cyclical.IceFire,\n",
    "                        size_max=20,\n",
    "                        width=800, \n",
    "                        height=800,\n",
    "                        title=format_title(\"US Drone Strikes 2002 - 2018\", \n",
    "                                           \"Data collected from https://dronewars.github.io/data/\"),\n",
    "                        )\n",
    "\n",
    "# Set the center point of the map and the starting zoom \n",
    "fig.update_mapboxes(center=dict(lat = 21, lon = 50),\n",
    "                    zoom = 3,\n",
    "                   )\n",
    "\n",
    "fig.update_traces(\n",
    "    # This removed the colorbar\n",
    "    marker_coloraxis=None\n",
    ")\n",
    "\n",
    "fig.show()"
   ]
  },
  {
   "cell_type": "markdown",
   "id": "a4b46f17-6b1a-4c95-bb55-e22d2596ef90",
   "metadata": {},
   "source": [
    "### How many Strikes were carried out by the sitting President of the United States"
   ]
  },
  {
   "cell_type": "code",
   "execution_count": null,
   "id": "fa057e8c-a5ed-4633-bde3-f3d00a317b50",
   "metadata": {},
   "outputs": [],
   "source": [
    "dfprez = df.groupby('President')\n",
    "dfprez = dfprez.apply(lambda x: x['Maximum total people killed'].count())\n",
    "\n",
    "# Build our graph\n",
    "fig = px.bar(dfprez,\n",
    "             x=dfprez.index,\n",
    "             y=dfprez.values,\n",
    "             title=format_title(\"Total Number of Missions flown under each US Presidents time in Office starting in 2002<br> up to and including 2018\", \n",
    "                                \"Data collected from https://dronewars.github.io/data/\"),\n",
    "             template=da_template\n",
    "             )\n",
    "\n",
    "# Set angle of text on the x axis\n",
    "fig.update_xaxes(title_text='<b>Sitting President<b>',\n",
    "                 showline=True,\n",
    "                 linewidth=1,\n",
    "                 linecolor='#071633'\n",
    "                )\n",
    "\n",
    "# Set Y axis formating \n",
    "fig.update_yaxes(title_text='<b>Number of Strikes<b>',\n",
    "                )\n",
    "\n",
    "fig.update_layout(height=800,\n",
    "                  #width=800\n",
    "                  )\n",
    "\n",
    "fig.update_traces(text= dfprez.values,\n",
    "                  textposition='inside'\n",
    "                  )"
   ]
  },
  {
   "cell_type": "markdown",
   "id": "58785f56-c504-410a-81c6-ac6ee4cf54f9",
   "metadata": {},
   "source": [
    "### How many many missions were flown each year?"
   ]
  },
  {
   "cell_type": "code",
   "execution_count": null,
   "id": "4c853fb8-b525-4573-b5ec-8862fdd866b3",
   "metadata": {},
   "outputs": [],
   "source": [
    "dfyear = df.groupby('Year')\n",
    "dfyear = dfyear.apply(lambda x: x['Year'].count())\n",
    "\n",
    "# Build our graph\n",
    "fig = px.bar(dfyear,\n",
    "             x=dfyear.index,\n",
    "             y=dfyear.values,\n",
    "             title=format_title(\"Total Number of Missions Flown Each Year\", \n",
    "                                \"Data collected from https://dronewars.github.io/data/\"),\n",
    "             template=da_template\n",
    "             )\n",
    "\n",
    "fig.update_layout(height=800,\n",
    "                  width=800\n",
    "                  )\n",
    "\n",
    "# Set angle of text on the x axis\n",
    "fig.update_xaxes(title_text='<b>Year<b>',\n",
    "                 tickangle=45,\n",
    "                 showline=True,\n",
    "                 linewidth=1,\n",
    "                 linecolor='#071633'\n",
    "                )\n",
    "\n",
    "# Set Y axis formating \n",
    "fig.update_yaxes(title_text='<b>Number of Strikes<b>',\n",
    "                )\n",
    "\n",
    "fig.update_traces(text= dfyear.values,\n",
    "                  textposition='outside'\n",
    "                  )"
   ]
  },
  {
   "cell_type": "markdown",
   "id": "e9f201ad-9ee4-4e14-88fa-588b40a6075a",
   "metadata": {},
   "source": [
    "## Drone Strikes Distributed by Day of Week"
   ]
  },
  {
   "cell_type": "code",
   "execution_count": null,
   "id": "74aed4eb-fc2b-4149-95e4-db549b701475",
   "metadata": {},
   "outputs": [],
   "source": [
    "# Setup our data for defining a Category order\n",
    "day_order = [ 'Monday', 'Tuesday', 'Wednesday', 'Thursday', 'Friday', 'Saturday', 'Sunday']\n",
    "cat_type = CategoricalDtype(categories=day_order, ordered=True)"
   ]
  },
  {
   "cell_type": "code",
   "execution_count": null,
   "id": "edd741f9-4d59-4445-a257-981c416d64fd",
   "metadata": {},
   "outputs": [],
   "source": [
    "# Set our 'Day' Column to our Categorical Type\n",
    "df['Day'] = df['Day'].astype(cat_type)"
   ]
  },
  {
   "cell_type": "code",
   "execution_count": null,
   "id": "41f43469-f798-4a22-ab30-4946b11c1bd7",
   "metadata": {},
   "outputs": [],
   "source": [
    "# Get Number of Drone Strikes grouped by Day of week\n",
    "dfday = df.groupby('Day')\n",
    "dfday = dfday.apply(lambda x: x['Day'].count())"
   ]
  },
  {
   "cell_type": "code",
   "execution_count": null,
   "id": "a6c22207-3ee6-48e4-b459-d6074f3a4e0b",
   "metadata": {},
   "outputs": [],
   "source": [
    "# Get the mean and median of the strikes\n",
    "mean_strike = dfday.mean()"
   ]
  },
  {
   "cell_type": "markdown",
   "id": "be36ed72-0e27-4258-a525-3ff883ad86b7",
   "metadata": {},
   "source": [
    "### Demo Graph Showing number of Drone Strikes by day"
   ]
  },
  {
   "cell_type": "code",
   "execution_count": null,
   "id": "5d07f685-8fa2-495a-b4a0-755e2146935a",
   "metadata": {},
   "outputs": [],
   "source": [
    "# Build our graph\n",
    "fig = px.bar(dfday, x=dfday.index, y=dfday.values,\n",
    "             title=format_title(\"Number of Drone Strikes by Day\",\n",
    "                                \"Data collected from https://dronewars.github.io/data/\"),\n",
    "             template=da_template\n",
    "             )\n",
    "\n",
    "# Add a dashed horizontal line to show our mean\n",
    "fig.add_hline(y=mean_strike, line_dash = 'dash', line_color = 'Red')\n",
    "\n",
    "# Add a rectangle bounding the area on the Y axis from 220 - 260 strikes a day\n",
    "# Set it to the colour green and an opacity of 0.3.\n",
    "fig.add_hrect(y0=212, y1=272, line_width=0, fillcolor=\"green\", opacity=0.3)\n",
    "\n",
    "fig.update_layout(height=800                  \n",
    "                 )\n",
    "\n",
    "# Set angle of text on the x axis\n",
    "fig.update_xaxes(title_text='<b>Day<b>',\n",
    "                 tickangle=45,\n",
    "                 showline=True, \n",
    "                 linewidth=1,\n",
    "                 linecolor='#071633'\n",
    "                )\n",
    "\n",
    "# Set Y axis formating \n",
    "fig.update_yaxes(title_text='<b>Number of Strikes<b>',\n",
    "                 # Displays y axis line, sets the width and colour \n",
    "                 #showline=True,\n",
    "                 #linewidth=1,\n",
    "                 #linecolor='#071633'\n",
    "                )\n",
    "\n",
    "fig.update_traces(text = dfday.values,\n",
    "                  # Set text to show outside the bars\n",
    "                  textposition='outside',\n",
    "                  \n",
    "                 # Set bar colour to a specific color\n",
    "                  marker_color='Blue'\n",
    "                 )\n",
    "\n",
    "# Add annotations\n",
    "# Add a description to our Mean line\n",
    "fig.add_annotation(x='Tuesday', y=246,\n",
    "            text=\"<b>Mean (242)</b>\",\n",
    "            # Do not show an arrow\n",
    "            showarrow=False,\n",
    "            arrowhead=1,\n",
    "            font=dict(\n",
    "                color=\"Red\",\n",
    "                size=12)\n",
    "                  )\n",
    "\n",
    "# Add a description to our green rectangle\n",
    "# with a text annotation and an arrow\n",
    "fig.add_annotation(x='Monday', y=211,\n",
    "            text=\"<b>Lower Limit</b>\",\n",
    "            # Show an arrow\n",
    "            showarrow=True,\n",
    "            arrowhead=1,\n",
    "            # Set annotation text \n",
    "            ax=10,\n",
    "            ay=30,       \n",
    "            arrowcolor='White',\n",
    "            opacity=1.0,\n",
    "            font=dict(\n",
    "                color=\"cyan\",\n",
    "                size=12)\n",
    "                  )\n",
    "\n",
    "# Add a description to our green rectangle\n",
    "# with a text annotation and an arrow\n",
    "fig.add_annotation(x='Saturday', y=272,\n",
    "            text=\"<b>Upper Limit</b>\",\n",
    "            # Dont show an arrow\n",
    "            showarrow=True,\n",
    "            arrowhead=1,\n",
    "            font=dict(\n",
    "                color=\"Cyan\",\n",
    "                size=12)\n",
    "                  )\n",
    "\n",
    "# Hide colour Scale\n",
    "fig.update_coloraxes(showscale=False)\n",
    "\n",
    "fig.show()"
   ]
  },
  {
   "cell_type": "code",
   "execution_count": null,
   "id": "982a55df-43d9-414d-a8e0-bb5e81210ff4",
   "metadata": {},
   "outputs": [],
   "source": []
  }
 ],
 "metadata": {
  "kernelspec": {
   "display_name": "Python 3 (ipykernel)",
   "language": "python",
   "name": "python3"
  },
  "language_info": {
   "codemirror_mode": {
    "name": "ipython",
    "version": 3
   },
   "file_extension": ".py",
   "mimetype": "text/x-python",
   "name": "python",
   "nbconvert_exporter": "python",
   "pygments_lexer": "ipython3",
   "version": "3.9.7"
  }
 },
 "nbformat": 4,
 "nbformat_minor": 5
}
